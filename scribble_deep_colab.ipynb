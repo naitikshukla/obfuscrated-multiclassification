{
 "cells": [
  {
   "cell_type": "code",
   "execution_count": 8,
   "metadata": {
    "colab": {
     "autoexec": {
      "startup": false,
      "wait_interval": 0
     },
     "base_uri": "https://localhost:8080/",
     "height": 105,
     "output_extras": [
      {
       "item_id": 4
      }
     ]
    },
    "colab_type": "code",
    "executionInfo": {
     "elapsed": 22534,
     "status": "ok",
     "timestamp": 1522635141682,
     "user": {
      "displayName": "naitik shukla",
      "photoUrl": "//lh5.googleusercontent.com/-_ht_nTWbnyw/AAAAAAAAAAI/AAAAAAAACMo/9IeelrIwJ-w/s50-c-k-no/photo.jpg",
      "userId": "104674487255423607646"
     },
     "user_tz": -480
    },
    "id": "1u9vbGY7MES_",
    "outputId": "29a9fc97-83e1-4aa5-d4c0-28b15c0460c0"
   },
   "outputs": [
    {
     "name": "stdout",
     "output_type": "stream",
     "text": [
      "Please, open the following URL in a web browser: https://accounts.google.com/o/oauth2/auth?client_id=32555940559.apps.googleusercontent.com&redirect_uri=urn%3Aietf%3Awg%3Aoauth%3A2.0%3Aoob&scope=https%3A%2F%2Fwww.googleapis.com%2Fauth%2Fdrive&response_type=code&access_type=offline&approval_prompt=force\r\n",
      "··········\n",
      "Please, open the following URL in a web browser: https://accounts.google.com/o/oauth2/auth?client_id=32555940559.apps.googleusercontent.com&redirect_uri=urn%3Aietf%3Awg%3Aoauth%3A2.0%3Aoob&scope=https%3A%2F%2Fwww.googleapis.com%2Fauth%2Fdrive&response_type=code&access_type=offline&approval_prompt=force\n",
      "Please enter the verification code: Access token retrieved correctly.\n"
     ]
    }
   ],
   "source": [
    "#Setup and instantiate code on Google Colab\n",
    "!apt-get install -y -qq software-properties-common python-software-properties module-init-tools\n",
    "!add-apt-repository -y ppa:alessandro-strada/ppa 2>&1 > /dev/null\n",
    "!apt-get update -qq 2>&1 > /dev/null\n",
    "!apt-get -y install -qq google-drive-ocamlfuse fuse\n",
    "from google.colab import auth4/AAAiaOAlI_Euf8AEGRh8zMMWoVyR8JITz1S5jB4IaS5gZRegu4_ctWg\n",
    "auth.authenticate_user()\n",
    "from oauth2client.client import GoogleCredentials\n",
    "creds = GoogleCredentials.get_application_default()\n",
    "import getpass\n",
    "!google-drive-ocamlfuse -headless -id={creds.client_id} -secret={creds.client_secret} < /dev/null 2>&1 | grep URL\n",
    "vcode = getpass.getpass()\n",
    "!echo {vcode} | google-drive-ocamlfuse -headless -id={creds.client_id} -secret={creds.client_secret}"
   ]
  },
  {
   "cell_type": "code",
   "execution_count": 0,
   "metadata": {
    "colab": {
     "autoexec": {
      "startup": false,
      "wait_interval": 0
     }
    },
    "colab_type": "code",
    "id": "KEowLpURNBuh"
   },
   "outputs": [],
   "source": [
    "!mkdir -p drive\n",
    "!google-drive-ocamlfuse drive"
   ]
  },
  {
   "cell_type": "code",
   "execution_count": 0,
   "metadata": {
    "colab": {
     "autoexec": {
      "startup": false,
      "wait_interval": 0
     }
    },
    "colab_type": "code",
    "id": "fKm8svabNIuI"
   },
   "outputs": [],
   "source": [
    "#one time installation\n",
    "!pip install -q keras\n",
    "!pip install -q h5py"
   ]
  },
  {
   "cell_type": "code",
   "execution_count": 1,
   "metadata": {
    "colab": {
     "autoexec": {
      "startup": false,
      "wait_interval": 0
     }
    },
    "colab_type": "code",
    "id": "KB7U5E--N82Q"
   },
   "outputs": [
    {
     "name": "stderr",
     "output_type": "stream",
     "text": [
      "Using TensorFlow backend.\n"
     ]
    }
   ],
   "source": [
    "import pandas as pd\n",
    "import numpy as np\n",
    "import matplotlib.pyplot as plt\n",
    "#keras model module\n",
    "from keras.models import Sequential\n",
    "#keras core layer\n",
    "from keras.layers import Dense, Dropout, Activation, Flatten\n",
    "#keras cnn layer\n",
    "from keras.layers import Conv2D, MaxPooling2D, Embedding, LSTM, Conv1D, MaxPooling1D, BatchNormalization\n",
    "#keras utilities\n",
    "from keras.utils import np_utils"
   ]
  },
  {
   "cell_type": "code",
   "execution_count": 0,
   "metadata": {
    "colab": {
     "autoexec": {
      "startup": false,
      "wait_interval": 0
     }
    },
    "colab_type": "code",
    "id": "Ozid5JU7NOdw"
   },
   "outputs": [],
   "source": [
    "#use this if on Colab\n",
    "x_train = pd.read_csv(\"drive/colab/xtrain_obfuscated.txt\",header=None,names = [\"x\"])\n",
    "y_train = pd.read_csv(\"drive/colab/ytrain.txt\",header=None,names = [\"y\"])"
   ]
  },
  {
   "cell_type": "code",
   "execution_count": 2,
   "metadata": {},
   "outputs": [],
   "source": [
    "#Use this if on Local machine\n",
    "x_train = pd.read_csv(\"xtrain_obfuscated.txt\",header=None,names = [\"x\"])\n",
    "y_train = pd.read_csv(\"ytrain.txt\",header=None,names = [\"y\"])"
   ]
  },
  {
   "cell_type": "code",
   "execution_count": 3,
   "metadata": {
    "colab": {
     "autoexec": {
      "startup": false,
      "wait_interval": 0
     }
    },
    "colab_type": "code",
    "id": "ZhVU6VblOMOY"
   },
   "outputs": [],
   "source": [
    "dat = pd.merge(x_train,y_train, left_index=True, right_index=True)"
   ]
  },
  {
   "cell_type": "code",
   "execution_count": 4,
   "metadata": {
    "colab": {
     "autoexec": {
      "startup": false,
      "wait_interval": 0
     }
    },
    "colab_type": "code",
    "id": "twD_O1nKaopr"
   },
   "outputs": [],
   "source": [
    "#Split into test and train\n",
    "msk = np.random.rand(len(dat)) < 0.8\n",
    "train = dat[msk]\n",
    "test = dat[~msk]"
   ]
  },
  {
   "cell_type": "code",
   "execution_count": 8,
   "metadata": {
    "colab": {
     "autoexec": {
      "startup": false,
      "wait_interval": 0
     }
    },
    "colab_type": "code",
    "id": "WX9zWqDSavyL"
   },
   "outputs": [],
   "source": [
    "#preprocess x_train\n",
    "train_x = np.zeros((len(train),480,26))\n",
    "for a,b in enumerate(train.x):\n",
    "\tfor i,j in enumerate(train.iloc[a,0]):\n",
    "\t\tif i < 480:\n",
    "\t\t\tk=int(ord(j)-97)\n",
    "\t\t\ttrain_x[a][i][k]=1"
   ]
  },
  {
   "cell_type": "code",
   "execution_count": 16,
   "metadata": {},
   "outputs": [
    {
     "name": "stdout",
     "output_type": "stream",
     "text": [
      "Image at location: 0\n"
     ]
    },
    {
     "data": {
      "image/png": "[encoded data removed]",
      "text/plain": [
       "<matplotlib.figure.Figure at 0x1d73e715be0>"
      ]
     },
     "metadata": {},
     "output_type": "display_data"
    }
   ],
   "source": [
    "print(\"Image at location:\",0)\n",
    "plt.imshow(train_x[0])\n",
    "plt.show()"
   ]
  },
  {
   "cell_type": "code",
   "execution_count": null,
   "metadata": {},
   "outputs": [],
   "source": [
    "train_x = train_x.reshape(train_x.shape[0], 480, 26,1)\n",
    "train_x = train_x.astype('float32')"
   ]
  },
  {
   "cell_type": "code",
   "execution_count": 9,
   "metadata": {
    "colab": {
     "autoexec": {
      "startup": false,
      "wait_interval": 0
     }
    },
    "colab_type": "code",
    "id": "_3GAa_C5OZaw"
   },
   "outputs": [],
   "source": [
    "#preprocess y_train\n",
    "train_y = np_utils.to_categorical(train.y, 12)"
   ]
  },
  {
   "cell_type": "code",
   "execution_count": 7,
   "metadata": {
    "colab": {
     "autoexec": {
      "startup": false,
      "wait_interval": 0
     }
    },
    "colab_type": "code",
    "id": "WqYvoicKOcrv"
   },
   "outputs": [],
   "source": [
    "np.random.seed(7)"
   ]
  },
  {
   "cell_type": "code",
   "execution_count": 0,
   "metadata": {
    "colab": {
     "autoexec": {
      "startup": false,
      "wait_interval": 0
     }
    },
    "colab_type": "code",
    "id": "yKAYbtMOa8ps"
   },
   "outputs": [],
   "source": [
    "# create model with input taken as image and used cnn2d\n",
    "model = Sequential()\n",
    "model.add(Conv2D(32, (3, 3), activation='relu',strides=2, padding = \"same\", input_shape=(480,26,1)))\n",
    "model.add(MaxPooling2D(pool_size=(2,2)))\n",
    "model.add(Conv2D(64, (3, 3), activation='relu'))\n",
    "model.add(Dropout(0.25))\n",
    "model.add(Flatten())\n",
    "model.add(Dense(128, activation='relu'))\n",
    "model.add(Dropout(0.5))\n",
    "model.add(Dense(12, activation='softmax'))"
   ]
  },
  {
   "cell_type": "code",
   "execution_count": 0,
   "metadata": {
    "colab": {
     "autoexec": {
      "startup": false,
      "wait_interval": 0
     }
    },
    "colab_type": "code",
    "id": "252OcivhbABM"
   },
   "outputs": [],
   "source": [
    "#compile model\n",
    "model.compile(loss='categorical_crossentropy',\n",
    "              optimizer='adam',\n",
    "              metrics=['accuracy'])"
   ]
  },
  {
   "cell_type": "code",
   "execution_count": 57,
   "metadata": {
    "colab": {
     "autoexec": {
      "startup": false,
      "wait_interval": 0
     },
     "base_uri": "https://localhost:8080/",
     "height": 51,
     "output_extras": [
      {
       "item_id": 1
      }
     ]
    },
    "colab_type": "code",
    "executionInfo": {
     "elapsed": 837,
     "status": "ok",
     "timestamp": 1522574957388,
     "user": {
      "displayName": "naitik shukla",
      "photoUrl": "//lh5.googleusercontent.com/-_ht_nTWbnyw/AAAAAAAAAAI/AAAAAAAACMo/9IeelrIwJ-w/s50-c-k-no/photo.jpg",
      "userId": "104674487255423607646"
     },
     "user_tz": -480
    },
    "id": "77RmCmlEcN0z",
    "outputId": "b2c9c502-b977-4acb-9cf0-e432e146f22a"
   },
   "outputs": [
    {
     "name": "stdout",
     "output_type": "stream",
     "text": [
      "(26037, 480, 26, 1)\n",
      "(26037, 12)\n"
     ]
    }
   ],
   "source": [
    "print(train_x.shape)\n",
    "print(train_y.shape)"
   ]
  },
  {
   "cell_type": "code",
   "execution_count": 69,
   "metadata": {
    "colab": {
     "autoexec": {
      "startup": false,
      "wait_interval": 0
     },
     "base_uri": "https://localhost:8080/",
     "height": 207,
     "output_extras": [
      {
       "item_id": 94
      },
      {
       "item_id": 128
      }
     ]
    },
    "colab_type": "code",
    "executionInfo": {
     "elapsed": 46440,
     "status": "ok",
     "timestamp": 1522575321247,
     "user": {
      "displayName": "naitik shukla",
      "photoUrl": "//lh5.googleusercontent.com/-_ht_nTWbnyw/AAAAAAAAAAI/AAAAAAAACMo/9IeelrIwJ-w/s50-c-k-no/photo.jpg",
      "userId": "104674487255423607646"
     },
     "user_tz": -480
    },
    "id": "RzYc6zs6bel-",
    "outputId": "ae07c9b5-b480-49e0-cc23-6766ac6257e5"
   },
   "outputs": [
    {
     "name": "stdout",
     "output_type": "stream",
     "text": [
      "Epoch 1/5\n",
      "26037/26037 [==============================] - 9s 363us/step - loss: 1.3009 - acc: 0.5500\n",
      "Epoch 2/5\n",
      "26037/26037 [==============================] - 9s 347us/step - loss: 1.1651 - acc: 0.5917\n",
      "Epoch 3/5\n",
      "26037/26037 [==============================] - 9s 348us/step - loss: 1.0521 - acc: 0.6306\n",
      "Epoch 4/5\n",
      "24576/26037 [===========================>..] - ETA: 0s - loss: 0.9483 - acc: 0.663926037/26037 [==============================] - 9s 349us/step - loss: 0.9529 - acc: 0.6626\n",
      "Epoch 5/5\n",
      "26037/26037 [==============================] - 9s 349us/step - loss: 0.8787 - acc: 0.6863\n"
     ]
    }
   ],
   "source": [
    "history = model.fit(train_x, train_y,\n",
    "          batch_size=128, epochs=5, verbose=1,callbacks=[history])"
   ]
  },
  {
   "cell_type": "code",
   "execution_count": 0,
   "metadata": {
    "colab": {
     "autoexec": {
      "startup": false,
      "wait_interval": 0
     }
    },
    "colab_type": "code",
    "id": "Afm_k6eufrn6"
   },
   "outputs": [],
   "source": [
    "#preprocess x_test\n",
    "test_x = np.zeros((len(test),480,26))\n",
    "for a,b in enumerate(test.x):\n",
    "\tfor i,j in enumerate(test.iloc[a,0]):\n",
    "\t\tif i < 480:\n",
    "\t\t\tk=int(ord(j)-97)\n",
    "\t\t\ttest_x[a][i][k]=1\n",
    "test_x = test_x.reshape(test_x.shape[0], 480, 26,1)\n",
    "test_x = test_x.astype('float32')"
   ]
  },
  {
   "cell_type": "code",
   "execution_count": 0,
   "metadata": {
    "colab": {
     "autoexec": {
      "startup": false,
      "wait_interval": 0
     }
    },
    "colab_type": "code",
    "id": "dv8KZ-k2gCcU"
   },
   "outputs": [],
   "source": [
    "#preprocess y_train\n",
    "test_y = np_utils.to_categorical(test.y, 12)"
   ]
  },
  {
   "cell_type": "code",
   "execution_count": 0,
   "metadata": {
    "colab": {
     "autoexec": {
      "startup": false,
      "wait_interval": 0
     }
    },
    "colab_type": "code",
    "id": "cK0boSyhfluh"
   },
   "outputs": [],
   "source": [
    "score = model.evaluate(test_x, test_y, verbose=0)\n"
   ]
  },
  {
   "cell_type": "code",
   "execution_count": 85,
   "metadata": {
    "colab": {
     "autoexec": {
      "startup": false,
      "wait_interval": 0
     },
     "base_uri": "https://localhost:8080/",
     "height": 51,
     "output_extras": [
      {
       "item_id": 1
      }
     ]
    },
    "colab_type": "code",
    "executionInfo": {
     "elapsed": 909,
     "status": "ok",
     "timestamp": 1522575710860,
     "user": {
      "displayName": "naitik shukla",
      "photoUrl": "//lh5.googleusercontent.com/-_ht_nTWbnyw/AAAAAAAAAAI/AAAAAAAACMo/9IeelrIwJ-w/s50-c-k-no/photo.jpg",
      "userId": "104674487255423607646"
     },
     "user_tz": -480
    },
    "id": "bDUBy67ugO27",
    "outputId": "b28efae8-7d28-4c9c-d955-166c8a15e53f"
   },
   "outputs": [
    {
     "name": "stdout",
     "output_type": "stream",
     "text": [
      "Test loss: 1.9842588206439051\n",
      "Test accuracy: 0.38310685608400247\n"
     ]
    }
   ],
   "source": [
    "print('Test loss:', score[0])\n",
    "print('Test accuracy:', score[1])"
   ]
  },
  {
   "cell_type": "code",
   "execution_count": 78,
   "metadata": {
    "colab": {
     "autoexec": {
      "startup": false,
      "wait_interval": 0
     },
     "base_uri": "https://localhost:8080/",
     "height": 34,
     "output_extras": [
      {
       "item_id": 1
      }
     ]
    },
    "colab_type": "code",
    "executionInfo": {
     "elapsed": 725,
     "status": "ok",
     "timestamp": 1522575525384,
     "user": {
      "displayName": "naitik shukla",
      "photoUrl": "//lh5.googleusercontent.com/-_ht_nTWbnyw/AAAAAAAAAAI/AAAAAAAACMo/9IeelrIwJ-w/s50-c-k-no/photo.jpg",
      "userId": "104674487255423607646"
     },
     "user_tz": -480
    },
    "id": "IUFO3XJskWdn",
    "outputId": "f2104b2a-14d4-48a1-ca94-413c715ed87d"
   },
   "outputs": [
    {
     "name": "stdout",
     "output_type": "stream",
     "text": [
      "dict_keys(['loss', 'acc'])\n"
     ]
    }
   ],
   "source": [
    "print(history.history.keys())"
   ]
  },
  {
   "cell_type": "code",
   "execution_count": 83,
   "metadata": {
    "colab": {
     "autoexec": {
      "startup": false,
      "wait_interval": 0
     },
     "base_uri": "https://localhost:8080/",
     "height": 376,
     "output_extras": [
      {
       "item_id": 1
      }
     ]
    },
    "colab_type": "code",
    "executionInfo": {
     "elapsed": 997,
     "status": "ok",
     "timestamp": 1522575691928,
     "user": {
      "displayName": "naitik shukla",
      "photoUrl": "//lh5.googleusercontent.com/-_ht_nTWbnyw/AAAAAAAAAAI/AAAAAAAACMo/9IeelrIwJ-w/s50-c-k-no/photo.jpg",
      "userId": "104674487255423607646"
     },
     "user_tz": -480
    },
    "id": "Bq8w5krmg2VV",
    "outputId": "b7998df4-6f32-4e28-c82a-427247534473"
   },
   "outputs": [
    {
     "data": {
      "image/png": "[encoded data removed]",
      "text/plain": [
       "<matplotlib.figure.Figure at 0x7f2d5ef4cd30>"
      ]
     },
     "metadata": {
      "tags": []
     },
     "output_type": "display_data"
    }
   ],
   "source": [
    "plt.plot(range(1,6), history.history.get('acc'),label=\"accuracy\")\n",
    "plt.plot(range(1,6), history.history.get('loss'),label=\"loss\")\n",
    "plt.xlabel('Epochs')\n",
    "plt.ylabel('Accuracy')\n",
    "plt.legend()\n",
    "plt.title(\"Training curve\")\n",
    "plt.show()"
   ]
  },
  {
   "cell_type": "code",
   "execution_count": 96,
   "metadata": {
    "colab": {
     "autoexec": {
      "startup": false,
      "wait_interval": 0
     },
     "base_uri": "https://localhost:8080/",
     "height": 34,
     "output_extras": [
      {
       "item_id": 1
      }
     ]
    },
    "colab_type": "code",
    "executionInfo": {
     "elapsed": 5428,
     "status": "ok",
     "timestamp": 1522649819014,
     "user": {
      "displayName": "naitik shukla",
      "photoUrl": "//lh5.googleusercontent.com/-_ht_nTWbnyw/AAAAAAAAAAI/AAAAAAAACMo/9IeelrIwJ-w/s50-c-k-no/photo.jpg",
      "userId": "104674487255423607646"
     },
     "user_tz": -480
    },
    "id": "gXs7fuWG5CkL",
    "outputId": "ebb780be-b1ba-45c8-b3e8-90f93c08749b"
   },
   "outputs": [
    {
     "name": "stdout",
     "output_type": "stream",
     "text": [
      "Saved model to disk\n"
     ]
    }
   ],
   "source": [
    "# serialize model to JSON\n",
    "model_json = model1.to_json()\n",
    "with open(\"drive/colab/model1-926.json\", \"w\") as json_file:\n",
    "    json_file.write(model_json)\n",
    "# serialize weights to HDF5\n",
    "model1.save_weights(\"drive/colab/model1-926.h5\")\n",
    "print(\"Saved model to disk\")"
   ]
  },
  {
   "cell_type": "code",
   "execution_count": 0,
   "metadata": {
    "colab": {
     "autoexec": {
      "startup": false,
      "wait_interval": 0
     }
    },
    "colab_type": "code",
    "id": "E98CoW666wGp"
   },
   "outputs": [],
   "source": [
    "from keras.models import model_from_json\n",
    "# load json and create model\n",
    "json_file = open('drive/colab/model.json', 'r')\n",
    "loaded_model_json = json_file.read()\n",
    "json_file.close()\n",
    "loaded_model = model_from_json(loaded_model_json)\n",
    "# load weights into new model\n",
    "loaded_model.load_weights(\"drive/colab/model.h5\")\n",
    "print(\"Loaded model from disk\")\n",
    "\n",
    "# evaluate loaded model on test data\n",
    "loaded_model.compile(loss='binary_crossentropy', optimizer='rmsprop', metrics=['accuracy'])\n",
    "score = loaded_model.evaluate(test_x, test_y, verbose=0)"
   ]
  },
  {
   "cell_type": "markdown",
   "metadata": {},
   "source": [
    "# Trying other model with embedding/LSTM and loss function different"
   ]
  },
  {
   "cell_type": "code",
   "execution_count": 24,
   "metadata": {
    "colab": {
     "autoexec": {
      "startup": false,
      "wait_interval": 0
     },
     "base_uri": "https://localhost:8080/",
     "height": 34,
     "output_extras": [
      {
       "item_id": 1
      }
     ]
    },
    "colab_type": "code",
    "executionInfo": {
     "elapsed": 9752,
     "status": "ok",
     "timestamp": 1522638326929,
     "user": {
      "displayName": "naitik shukla",
      "photoUrl": "//lh5.googleusercontent.com/-_ht_nTWbnyw/AAAAAAAAAAI/AAAAAAAACMo/9IeelrIwJ-w/s50-c-k-no/photo.jpg",
      "userId": "104674487255423607646"
     },
     "user_tz": -480
    },
    "id": "gmBKxZSNHLAc",
    "outputId": "20078405-5285-4482-a310-eaf1967e7819"
   },
   "outputs": [
    {
     "name": "stdout",
     "output_type": "stream",
     "text": [
      "(26018, 453)\n"
     ]
    }
   ],
   "source": [
    "#prepocess one-hot encoding into x_train\n",
    "MAX_LEN=453\n",
    "x_t1 = np.zeros((len(train.x), MAX_LEN), dtype=np.int)\n",
    "\n",
    "for a,b in enumerate(train.x):\n",
    "\tfor i,j in enumerate(train.iloc[a,0]):\n",
    "\t\tif i < MAX_LEN:\n",
    "\t\t\tk=int(ord(j)-97)\n",
    "\t\t\tx_t1[a][i]=k\n",
    "print(x_t1.shape)\n",
    "print(train_y.shape)"
   ]
  },
  {
   "cell_type": "code",
   "execution_count": 60,
   "metadata": {
    "colab": {
     "autoexec": {
      "startup": false,
      "wait_interval": 0
     },
     "base_uri": "https://localhost:8080/",
     "height": 51,
     "output_extras": [
      {
       "item_id": 1
      }
     ]
    },
    "colab_type": "code",
    "executionInfo": {
     "elapsed": 3167,
     "status": "ok",
     "timestamp": 1522647814048,
     "user": {
      "displayName": "naitik shukla",
      "photoUrl": "//lh5.googleusercontent.com/-_ht_nTWbnyw/AAAAAAAAAAI/AAAAAAAACMo/9IeelrIwJ-w/s50-c-k-no/photo.jpg",
      "userId": "104674487255423607646"
     },
     "user_tz": -480
    },
    "id": "Gg1lAtg7IkFJ",
    "outputId": "1f83dfe4-8067-4595-cdab-55a7651d263b"
   },
   "outputs": [
    {
     "name": "stdout",
     "output_type": "stream",
     "text": [
      "(6495, 453)\n",
      "(6495, 12)\n"
     ]
    }
   ],
   "source": [
    "#prepocess one-hot encoding into x_test\n",
    "x_t2 = np.zeros((len(test.x), MAX_LEN), dtype=np.int)\n",
    "\n",
    "for a,b in enumerate(test.x):\n",
    "\tfor i,j in enumerate(test.iloc[a,0]):\n",
    "\t\tif i < MAX_LEN:\n",
    "\t\t\tk=int(ord(j)-97)\n",
    "\t\t\tx_t2[a][i]=k\n",
    "print(x_t2.shape)\n",
    "print(test_y.shape)"
   ]
  },
  {
   "cell_type": "code",
   "execution_count": 0,
   "metadata": {
    "colab": {
     "autoexec": {
      "startup": false,
      "wait_interval": 0
     }
    },
    "colab_type": "code",
    "id": "L93Z50OqnBOv"
   },
   "outputs": [],
   "source": [
    "## new code trying for LSTM model\n",
    "model1 = Sequential()\n",
    "model1.add(Embedding(27,26 , input_length=MAX_LEN))\n",
    "model1.add(BatchNormalization())\n",
    "model1.add(Conv1D(32,5,padding='same',activation='relu',strides=2))\n",
    "model1.add(MaxPooling1D(pool_size=2))\n",
    "model1.add(BatchNormalization())\n",
    "#model1.add(Flatten())\n",
    "model1.add(LSTM(104, dropout=0.2, recurrent_dropout=0.1))\n",
    "model1.add(Dense(256))\n",
    "model1.add(Dropout(0.20))\n",
    "model1.add(Dense(12, activation=\"softmax\"))\n",
    "model1.compile(loss='binary_crossentropy', optimizer='adam', metrics=[\"accuracy\"])"
   ]
  },
  {
   "cell_type": "code",
   "execution_count": 93,
   "metadata": {
    "colab": {
     "autoexec": {
      "startup": false,
      "wait_interval": 0
     },
     "base_uri": "https://localhost:8080/",
     "height": 564,
     "output_extras": [
      {
       "item_id": 177
      },
      {
       "item_id": 309
      },
      {
       "item_id": 321
      }
     ]
    },
    "colab_type": "code",
    "executionInfo": {
     "elapsed": 149810,
     "status": "ok",
     "timestamp": 1522649661055,
     "user": {
      "displayName": "naitik shukla",
      "photoUrl": "//lh5.googleusercontent.com/-_ht_nTWbnyw/AAAAAAAAAAI/AAAAAAAACMo/9IeelrIwJ-w/s50-c-k-no/photo.jpg",
      "userId": "104674487255423607646"
     },
     "user_tz": -480
    },
    "id": "3A-3QMVONoa2",
    "outputId": "e5ce7f0f-1627-4120-c4f1-03d77603b27e"
   },
   "outputs": [
    {
     "name": "stdout",
     "output_type": "stream",
     "text": [
      "Train on 23416 samples, validate on 2602 samples\n",
      "Epoch 1/15\n",
      "23416/23416 [==============================] - 13s 534us/step - loss: 0.2765 - acc: 0.9167 - val_loss: 0.2745 - val_acc: 0.9167\n",
      "Epoch 2/15\n",
      "23416/23416 [==============================] - 10s 411us/step - loss: 0.2726 - acc: 0.9167 - val_loss: 0.2701 - val_acc: 0.9167\n",
      "Epoch 3/15\n",
      "23416/23416 [==============================] - 10s 409us/step - loss: 0.2665 - acc: 0.9166 - val_loss: 0.2605 - val_acc: 0.9167\n",
      "Epoch 4/15\n",
      "23416/23416 [==============================] - 10s 411us/step - loss: 0.2574 - acc: 0.9166 - val_loss: 0.2697 - val_acc: 0.9167\n",
      "Epoch 5/15\n",
      "23416/23416 [==============================] - 10s 411us/step - loss: 0.2511 - acc: 0.9167 - val_loss: 0.2530 - val_acc: 0.9175\n",
      "Epoch 6/15\n",
      "23416/23416 [==============================] - 10s 411us/step - loss: 0.2451 - acc: 0.9177 - val_loss: 0.2438 - val_acc: 0.9187\n",
      "Epoch 7/15\n",
      "23416/23416 [==============================] - 10s 411us/step - loss: 0.2388 - acc: 0.9191 - val_loss: 0.2331 - val_acc: 0.9199\n",
      "Epoch 8/15\n",
      " 1000/23416 [>.............................] - ETA: 8s - loss: 0.2333 - acc: 0.920623416/23416 [==============================] - 10s 410us/step - loss: 0.2313 - acc: 0.9204 - val_loss: 0.2322 - val_acc: 0.9197\n",
      "Epoch 9/15\n",
      "23416/23416 [==============================] - 10s 413us/step - loss: 0.2284 - acc: 0.9213 - val_loss: 0.2347 - val_acc: 0.9203\n",
      "Epoch 10/15\n",
      "23416/23416 [==============================] - 10s 412us/step - loss: 0.2227 - acc: 0.9224 - val_loss: 0.2441 - val_acc: 0.9203\n",
      "Epoch 11/15\n",
      "23416/23416 [==============================] - 10s 413us/step - loss: 0.2207 - acc: 0.9219 - val_loss: 0.2364 - val_acc: 0.9215\n",
      "Epoch 12/15\n",
      "23416/23416 [==============================] - 10s 410us/step - loss: 0.2152 - acc: 0.9229 - val_loss: 0.2227 - val_acc: 0.9226\n",
      "Epoch 13/15\n",
      "23416/23416 [==============================] - 10s 412us/step - loss: 0.2113 - acc: 0.9232 - val_loss: 0.2245 - val_acc: 0.9228\n",
      "Epoch 14/15\n",
      "23416/23416 [==============================] - 10s 412us/step - loss: 0.2063 - acc: 0.9244 - val_loss: 0.2232 - val_acc: 0.9237\n",
      "Epoch 15/15\n",
      "10000/23416 [===========>..................] - ETA: 5s - loss: 0.1997 - acc: 0.925123416/23416 [==============================] - 10s 411us/step - loss: 0.1981 - acc: 0.9257 - val_loss: 0.2012 - val_acc: 0.9255\n"
     ]
    }
   ],
   "source": [
    "history1 = model1.fit(x_t1, train_y,batch_size=1000, epochs=15, validation_split=0.10, verbose=1)"
   ]
  },
  {
   "cell_type": "code",
   "execution_count": 94,
   "metadata": {
    "colab": {
     "autoexec": {
      "startup": false,
      "wait_interval": 0
     },
     "base_uri": "https://localhost:8080/",
     "height": 376,
     "output_extras": [
      {
       "item_id": 1
      }
     ]
    },
    "colab_type": "code",
    "executionInfo": {
     "elapsed": 805,
     "status": "ok",
     "timestamp": 1522649661929,
     "user": {
      "displayName": "naitik shukla",
      "photoUrl": "//lh5.googleusercontent.com/-_ht_nTWbnyw/AAAAAAAAAAI/AAAAAAAACMo/9IeelrIwJ-w/s50-c-k-no/photo.jpg",
      "userId": "104674487255423607646"
     },
     "user_tz": -480
    },
    "id": "sx9Ghcy9ej5d",
    "outputId": "4791858d-754d-4bfd-b3a3-2882b88d1911"
   },
   "outputs": [
    {
     "data": {
      "image/png": "[encoded data removed]",
      "text/plain": [
       "<matplotlib.figure.Figure at 0x7f0dbd6b5c88>"
      ]
     },
     "metadata": {
      "tags": []
     },
     "output_type": "display_data"
    }
   ],
   "source": [
    "plt.plot(range(1,16), history1.history.get('acc'),label=\"accuracy\")\n",
    "plt.xlabel('Epochs')\n",
    "plt.ylabel('Accuracy')\n",
    "plt.legend()\n",
    "plt.title(\"Training curve\")\n",
    "plt.show()"
   ]
  },
  {
   "cell_type": "code",
   "execution_count": 95,
   "metadata": {
    "colab": {
     "autoexec": {
      "startup": false,
      "wait_interval": 0
     },
     "base_uri": "https://localhost:8080/",
     "height": 51,
     "output_extras": [
      {
       "item_id": 1
      }
     ]
    },
    "colab_type": "code",
    "executionInfo": {
     "elapsed": 17327,
     "status": "ok",
     "timestamp": 1522649690839,
     "user": {
      "displayName": "naitik shukla",
      "photoUrl": "//lh5.googleusercontent.com/-_ht_nTWbnyw/AAAAAAAAAAI/AAAAAAAACMo/9IeelrIwJ-w/s50-c-k-no/photo.jpg",
      "userId": "104674487255423607646"
     },
     "user_tz": -480
    },
    "id": "T7MoEbh04lfI",
    "outputId": "0dece743-8ab2-4c06-be13-e0923ccb53f1"
   },
   "outputs": [
    {
     "name": "stdout",
     "output_type": "stream",
     "text": [
      "Test loss: 0.1983827172425089\n",
      "Test accuracy: 0.9264562612776577\n"
     ]
    }
   ],
   "source": [
    "score1 = model1.evaluate(x_t2, test_y, verbose=0)\n",
    "print('Test loss:', score1[0])\n",
    "print('Test accuracy:', score1[1])"
   ]
  },
  {
   "cell_type": "code",
   "execution_count": 0,
   "metadata": {
    "colab": {
     "autoexec": {
      "startup": false,
      "wait_interval": 0
     }
    },
    "colab_type": "code",
    "id": "-MIMu-2U0kFe"
   },
   "outputs": [],
   "source": [
    "## new code trying for LSTM model\n",
    "model2 = Sequential()\n",
    "model2.add(Embedding(27,26 , input_length=MAX_LEN))\n",
    "model2.add(BatchNormalization())\n",
    "model2.add(Conv1D(32,5,padding='same',activation='relu',strides=2))\n",
    "model2.add(MaxPooling1D(pool_size=2))\n",
    "model2.add(BatchNormalization())\n",
    "#model2.add(Flatten())\n",
    "model2.add(LSTM(104, dropout=0.2, recurrent_dropout=0.1))\n",
    "model2.add(Dense(256))\n",
    "model2.add(Dropout(0.20))\n",
    "model2.add(Dense(12, activation=\"sigmoid\"))\n",
    "model2.compile(loss='binary_crossentropy', optimizer='Nadam', metrics=[\"accuracy\"])"
   ]
  },
  {
   "cell_type": "code",
   "execution_count": 116,
   "metadata": {
    "colab": {
     "autoexec": {
      "startup": false,
      "wait_interval": 0
     },
     "base_uri": "https://localhost:8080/",
     "height": 563,
     "output_extras": [
      {
       "item_id": 122
      },
      {
       "item_id": 123
      }
     ]
    },
    "colab_type": "code",
    "executionInfo": {
     "elapsed": 55628,
     "status": "ok",
     "timestamp": 1522650849762,
     "user": {
      "displayName": "naitik shukla",
      "photoUrl": "//lh5.googleusercontent.com/-_ht_nTWbnyw/AAAAAAAAAAI/AAAAAAAACMo/9IeelrIwJ-w/s50-c-k-no/photo.jpg",
      "userId": "104674487255423607646"
     },
     "user_tz": -480
    },
    "id": "UbGEQhlp0n_H",
    "outputId": "a6c70390-407b-4820-bec7-5a2faacac91b"
   },
   "outputs": [
    {
     "name": "stdout",
     "output_type": "stream",
     "text": [
      "Train on 23416 samples, validate on 2602 samples\n",
      "Epoch 1/5\n",
      "23416/23416 [==============================] - 15s 627us/step - loss: 0.5484 - acc: 0.8552 - val_loss: 0.4630 - val_acc: 0.9167\n",
      "Epoch 2/5\n",
      "23416/23416 [==============================] - 10s 412us/step - loss: 0.4567 - acc: 0.9095 - val_loss: 0.3970 - val_acc: 0.9167\n",
      "Epoch 3/5\n",
      "23416/23416 [==============================] - 10s 411us/step - loss: 0.4001 - acc: 0.9151 - val_loss: 0.3528 - val_acc: 0.9167\n",
      "Epoch 4/5\n",
      "23416/23416 [==============================] - 10s 414us/step - loss: 0.3617 - acc: 0.9163 - val_loss: 0.3247 - val_acc: 0.9167\n",
      "Epoch 5/5\n",
      "23416/23416 [==============================] - 10s 413us/step - loss: 0.3356 - acc: 0.9166 - val_loss: 0.3066 - val_acc: 0.9167\n"
     ]
    },
    {
     "data": {
      "image/png": "[encoded data removed]",
      "text/plain": [
       "<matplotlib.figure.Figure at 0x7f0d9d2c14e0>"
      ]
     },
     "metadata": {
      "tags": []
     },
     "output_type": "display_data"
    }
   ],
   "source": [
    "history2 = model2.fit(x_t1, train_y,batch_size=1000, epochs=5, validation_split=0.10, verbose=1)\n",
    "plt.plot(range(1,6), history2.history.get('acc'),label=\"accuracy\")\n",
    "plt.xlabel('Epochs')\n",
    "plt.ylabel('Accuracy')\n",
    "plt.legend()\n",
    "plt.title(\"Training curve\")\n",
    "plt.show()"
   ]
  },
  {
   "cell_type": "code",
   "execution_count": 76,
   "metadata": {
    "colab": {
     "autoexec": {
      "startup": false,
      "wait_interval": 0
     },
     "base_uri": "https://localhost:8080/",
     "height": 51,
     "output_extras": [
      {
       "item_id": 1
      }
     ]
    },
    "colab_type": "code",
    "executionInfo": {
     "elapsed": 15608,
     "status": "ok",
     "timestamp": 1522649079206,
     "user": {
      "displayName": "naitik shukla",
      "photoUrl": "//lh5.googleusercontent.com/-_ht_nTWbnyw/AAAAAAAAAAI/AAAAAAAACMo/9IeelrIwJ-w/s50-c-k-no/photo.jpg",
      "userId": "104674487255423607646"
     },
     "user_tz": -480
    },
    "id": "Wb6KUUZ59H-e",
    "outputId": "af87fba9-e6b7-4c4d-9b0d-6500a972fb3b"
   },
   "outputs": [
    {
     "name": "stdout",
     "output_type": "stream",
     "text": [
      "Test loss: 0.4088724964852513\n",
      "Test accuracy: 0.8933923394795653\n"
     ]
    }
   ],
   "source": [
    "score2 = model2.evaluate(x_t2, test_y, verbose=0)\n",
    "print('Test loss:', score2[0])\n",
    "print('Test accuracy:', score2[1])"
   ]
  },
  {
   "cell_type": "code",
   "execution_count": 46,
   "metadata": {
    "colab": {
     "autoexec": {
      "startup": false,
      "wait_interval": 0
     },
     "base_uri": "https://localhost:8080/",
     "height": 376,
     "output_extras": [
      {
       "item_id": 1
      }
     ]
    },
    "colab_type": "code",
    "executionInfo": {
     "elapsed": 1101,
     "status": "ok",
     "timestamp": 1522647037651,
     "user": {
      "displayName": "naitik shukla",
      "photoUrl": "//lh5.googleusercontent.com/-_ht_nTWbnyw/AAAAAAAAAAI/AAAAAAAACMo/9IeelrIwJ-w/s50-c-k-no/photo.jpg",
      "userId": "104674487255423607646"
     },
     "user_tz": -480
    },
    "id": "qiCz5CSG1JAd",
    "outputId": "89fbf9bf-0390-4fbb-c1e1-fa09174389e4"
   },
   "outputs": [
    {
     "data": {
      "image/png": "[encoded data removed]",
      "text/plain": [
       "<matplotlib.figure.Figure at 0x7f0dd6fbd780>"
      ]
     },
     "metadata": {
      "tags": []
     },
     "output_type": "display_data"
    }
   ],
   "source": [
    "plt.plot(range(1,6), history2.history.get('loss'),label=\"loss\")\n",
    "plt.xlabel('Epochs')\n",
    "plt.ylabel('Accuracy')\n",
    "plt.legend()\n",
    "plt.title(\"Training curve\")\n",
    "plt.show()"
   ]
  }
 ],
 "metadata": {
  "accelerator": "GPU",
  "colab": {
   "collapsed_sections": [],
   "default_view": {},
   "name": "scribble_deep.ipynb",
   "provenance": [],
   "version": "0.3.2",
   "views": {}
  },
  "kernelspec": {
   "display_name": "cnn",
   "language": "python",
   "name": "cnn"
  },
  "language_info": {
   "codemirror_mode": {
    "name": "ipython",
    "version": 3
   },
   "file_extension": ".py",
   "mimetype": "text/x-python",
   "name": "python",
   "nbconvert_exporter": "python",
   "pygments_lexer": "ipython3",
   "version": "3.5.4"
  }
 },
 "nbformat": 4,
 "nbformat_minor": 1
}
